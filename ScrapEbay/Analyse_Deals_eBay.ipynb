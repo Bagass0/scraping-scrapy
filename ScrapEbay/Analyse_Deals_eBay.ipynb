{
 "cells": [
  {
   "cell_type": "code",
   "execution_count": 2,
   "metadata": {},
   "outputs": [
    {
     "name": "stdout",
     "output_type": "stream",
     "text": [
      "                                                name      price   old price  \\\n",
      "0                                             [None]  [$334.99]  [$629.99 ]   \n",
      "1  [Dyson V11 Cordless Vacuum Cleaner | Blue | Ne...  [$374.99]  [$569.99 ]   \n",
      "2  [Dyson V11 Torque Drive + Cordless Vacuum | Bl...  [$349.99]  [$699.99 ]   \n",
      "3  [HGST Ultrastar HE10 HUH721010ALE600 10TB SATA...   [$69.99]   [$99.99 ]   \n",
      "4  [Harman Kardon Onyx Studio 6 Portable Bluetoot...   [$99.99]  [$479.95 ]   \n",
      "\n",
      "    discount  \n",
      "0  [47% off]  \n",
      "1  [34% off]  \n",
      "2  [50% off]  \n",
      "3  [30% off]  \n",
      "4  [79% off]  \n"
     ]
    }
   ],
   "source": [
    "import pandas as pd\n",
    "\n",
    "df = pd.read_json('ebay_data.json')\n",
    "print(df.head())\n",
    "\n"
   ]
  },
  {
   "cell_type": "code",
   "execution_count": null,
   "metadata": {},
   "outputs": [],
   "source": []
  }
 ],
 "metadata": {
  "kernelspec": {
   "display_name": "Python 3",
   "language": "python",
   "name": "python3"
  },
  "language_info": {
   "codemirror_mode": {
    "name": "ipython",
    "version": 3
   },
   "file_extension": ".py",
   "mimetype": "text/x-python",
   "name": "python",
   "nbconvert_exporter": "python",
   "pygments_lexer": "ipython3",
   "version": "3.12.2"
  }
 },
 "nbformat": 4,
 "nbformat_minor": 2
}
