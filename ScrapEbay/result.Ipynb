{
 "cells": [
  {
   "cell_type": "code",
   "execution_count": 1,
   "metadata": {},
   "outputs": [
    {
     "name": "stdout",
     "output_type": "stream",
     "text": [
      "                                                 image  \\\n",
      "0    https://i.ebayimg.com/images/g/I2YAAOSwQollTXd...   \n",
      "1    https://i.ebayimg.com/images/g/E2YAAOSwRPdlV4O...   \n",
      "2    https://i.ebayimg.com/images/g/uvEAAOSwaEBjikj...   \n",
      "3    https://i.ebayimg.com/images/g/5rAAAOSwfCljvJp...   \n",
      "4    https://i.ebayimg.com/images/g/2m8AAOSwicJl4PY...   \n",
      "..                                                 ...   \n",
      "135  https://ir.ebaystatic.com/pictures/aw/pics/s_1...   \n",
      "136  https://ir.ebaystatic.com/pictures/aw/pics/s_1...   \n",
      "137  https://ir.ebaystatic.com/pictures/aw/pics/s_1...   \n",
      "138  https://ir.ebaystatic.com/pictures/aw/pics/s_1...   \n",
      "139                                               None   \n",
      "\n",
      "                                                  name    price old_price  \\\n",
      "0                    New Balance Men's Fresh Foam Roav   $47.24   $84.99    \n",
      "1    Dyson V11 Cordless Vacuum Cleaner | Blue | New...  $374.99  $569.99    \n",
      "2    Intel - Core i9-13900K 13th Gen 24 cores 8 P-c...     None  $689.99    \n",
      "3    Seagate 12TB Exos X14 SATA 6Gb/s 7200RPM Enter...   $87.99   $97.99    \n",
      "4    HP Envy Inspire 7955E | All-in-One Wireless Co...   $54.99  $169.99    \n",
      "..                                                 ...      ...       ...   \n",
      "135  Avon Tyres Cobra Chrome Rear Tire (200/55R-18)...  $304.75  $439.00    \n",
      "136  Shinko HD WWW Wide Whitewall Heavy Duty 130/90...  $139.96  $174.95    \n",
      "137  Maxxis MU511/521 Front Tire,27x9-12 27 in. 27 ...  $186.00  $219.00    \n",
      "138  15x6 Method Race Wheels MR412 UTV Bead Grip Ma...  $424.15  $499.00    \n",
      "139                                               None     None      None   \n",
      "\n",
      "    discount  \n",
      "0    44% off  \n",
      "1    34% off  \n",
      "2       None  \n",
      "3    10% off  \n",
      "4    68% off  \n",
      "..       ...  \n",
      "135  31% off  \n",
      "136  20% off  \n",
      "137  15% off  \n",
      "138  15% off  \n",
      "139     None  \n",
      "\n",
      "[140 rows x 5 columns]\n"
     ]
    }
   ],
   "source": [
    "import sqlite3\n",
    "import pandas as pd\n",
    "\n",
    "# Se connecter à la base de données SQLite\n",
    "conn = sqlite3.connect('ebay.db')\n",
    "\n",
    "# Exécuter une requête SQL pour sélectionner toutes les données de la table \"scraping\"\n",
    "query = \"SELECT * FROM products\"\n",
    "\n",
    "# Lire les données dans un DataFrame\n",
    "df = pd.read_sql_query(query, conn)\n",
    "\n",
    "# Fermer la connexion à la base de données\n",
    "conn.close()\n",
    "\n",
    "# Afficher le DataFrame\n",
    "print(df)"
   ]
  },
  {
   "cell_type": "code",
   "execution_count": null,
   "metadata": {},
   "outputs": [],
   "source": []
  }
 ],
 "metadata": {
  "kernelspec": {
   "display_name": "Python 3",
   "language": "python",
   "name": "python3"
  },
  "language_info": {
   "codemirror_mode": {
    "name": "ipython",
    "version": 3
   },
   "file_extension": ".py",
   "mimetype": "text/x-python",
   "name": "python",
   "nbconvert_exporter": "python",
   "pygments_lexer": "ipython3",
   "version": "3.12.2"
  }
 },
 "nbformat": 4,
 "nbformat_minor": 2
}
